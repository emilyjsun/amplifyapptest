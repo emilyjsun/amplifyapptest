{
 "cells": [
  {
   "cell_type": "markdown",
   "id": "7dc8a1ad",
   "metadata": {},
   "source": [
    "Goal: ask player to give 5-digit number, 5-letter word, and a message. Output an encrypted message."
   ]
  },
  {
   "cell_type": "code",
   "execution_count": 6,
   "id": "43d9a165",
   "metadata": {
    "scrolled": true
   },
   "outputs": [
    {
     "name": "stdout",
     "output_type": "stream",
     "text": [
      "give me a 5-digit number: 1234567890\n",
      "give me a 5-letter word: qwertyuias\n",
      "what is your secret message? my favorite ice cream is caramel apple crunch\n",
      "m6 f9vo4853 8c3 c439m 80 c949m3l 9ppl3 c47nch\n"
     ]
    }
   ],
   "source": [
    "#create encrypted messages\n",
    "numbers = input('give me a 5-digit number: ')\n",
    "word = input('give me a 5-letter word: ')\n",
    "message = input('what is your secret message? ')\n",
    "\n",
    "secret_message = ''\n",
    "for letter in message:\n",
    "    if letter in word:\n",
    "        index = word.index(letter)\n",
    "        number = numbers[index]\n",
    "        secret_message += number\n",
    "    else:\n",
    "        secret_message += letter\n",
    "print(secret_message)\n",
    "    "
   ]
  },
  {
   "cell_type": "code",
   "execution_count": 1,
   "id": "e75c6051",
   "metadata": {},
   "outputs": [
    {
     "name": "stdout",
     "output_type": "stream",
     "text": [
      "Greetings,Danai\n",
      "Greetings,1\n",
      "Greetings, Danai\n",
      "Greetings, Maple\n",
      "Greetings, Oak\n",
      "Greetings, Danai\n",
      "Greetings, Maple\n",
      "Greetings, Oak\n",
      "Greetings, Danai\n",
      "Greetings, Maple\n",
      "Greetings, Oak\n",
      "Greetings,Samiksha\n",
      "Greetings,1\n"
     ]
    }
   ],
   "source": [
    "#functions\n",
    "\n",
    "#these are global variables\n",
    "name = \"anni\"\n",
    "age = 2\n",
    "\n",
    "# def greetings(name):\n",
    "#     title = 'instructor'\n",
    "#     name = 'maple'\n",
    "#     return name\n",
    "# #     print(name)\n",
    "# #     print(age)\n",
    "    \n",
    "# greetings('Danai')\n",
    "# name = greetings(name)\n",
    "# print(name)\n",
    "\n",
    "def greetings(names):\n",
    "    if type(names) == tuple or type(names) == list:\n",
    "        for name in names:\n",
    "            print(f'Greetings, {name}')\n",
    "    elif type(names) == dict:\n",
    "        for name in names.values(): \n",
    "            greetings(name)\n",
    "    else:\n",
    "        print(f'Greetings,{names}')\n",
    "        \n",
    "greetings('Danai')\n",
    "greetings(1)\n",
    "greetings(('Danai','Maple','Oak'))\n",
    "greetings(['Danai','Maple','Oak'])\n",
    "greetings({'person':['Danai','Maple','Oak'],'instructor':'Samiksha', 'number':1})"
   ]
  },
  {
   "cell_type": "code",
   "execution_count": 20,
   "id": "1692bd1a",
   "metadata": {},
   "outputs": [
    {
     "name": "stdout",
     "output_type": "stream",
     "text": [
      "Welcome to Wordle\n",
      "_ _ _ _ _\n",
      "Please enter a 5-letter word: aaaaa\n",
      "['aaaaa']\n",
      "set()\n",
      "_ _ _ _ _\n",
      "Please enter a 5-letter word: aalla\n",
      "['aaaaa', 'aalla']\n",
      "{'l'}\n",
      "_ _ l l _\n",
      "Please enter a 5-letter word: heart\n",
      "['aaaaa', 'aalla', 'heart']\n",
      "{'h', 'l', 'e'}\n",
      "e e l l _\n",
      "Please enter a 5-letter word: hello\n",
      "['aaaaa', 'aalla', 'heart', 'hello']\n",
      "{'h', 'l', 'e'}\n",
      "Congrats! You guessed the word: hello\n"
     ]
    }
   ],
   "source": [
    "class Wordle:\n",
    "    \n",
    "    def __init__(self):\n",
    "        self.word = 'hello'\n",
    "        self.tries = 6\n",
    "        self.guesses = []\n",
    "        self.victory = False\n",
    "        self.guess = ''\n",
    "        self.lines = ['_','_','_','_','_']\n",
    "        self.letters = set()\n",
    "\n",
    "        \n",
    "    def start(self):\n",
    "        print('Welcome to Wordle')\n",
    "        while not self.victory and self.tries > 0:\n",
    "            print(' '.join(self.lines))\n",
    "            self.guess = input('Please enter a 5-letter word: ')\n",
    "            self.guesses.append(self.guess)\n",
    "            self.check()\n",
    "            print(self.guesses)\n",
    "            print(self.letters)\n",
    "            #check the guess\n",
    "            self.tries -= 1\n",
    "        if self.victory:\n",
    "            print(f'Congrats! You guessed the word: {self.word}')\n",
    "        else:\n",
    "            print('Do you want to play again?')\n",
    "            #do something\n",
    "    \n",
    "    def check(self):\n",
    "        if self.guess == self.word:\n",
    "            self.victory = True\n",
    "        else:\n",
    "            if len(self.guess) == 5 and type(self.guess) == str:   \n",
    "                for letter in self.guess:\n",
    "                    if letter in self.word:\n",
    "                        match = self.matching_index()\n",
    "                        self.letters.add(letter)\n",
    "                        for index in match:\n",
    "                            self.lines[index] =  letter\n",
    "            else:\n",
    "                print('Invalid Input. Please enter 5-letter word: ')\n",
    "\n",
    "                    \n",
    "                    \n",
    "    \n",
    "    def matching_index(self):\n",
    "        indexes = []\n",
    "        for index in range(0,5):\n",
    "            if self.guess[index] == self.word[index]:\n",
    "                indexes.append(index)\n",
    "        return indexes\n",
    "                \n",
    "        \n",
    "game = Wordle()\n",
    "game.start()"
   ]
  },
  {
   "cell_type": "code",
   "execution_count": null,
   "id": "03e922fc",
   "metadata": {},
   "outputs": [],
   "source": []
  }
 ],
 "metadata": {
  "kernelspec": {
   "display_name": "Python 3 (ipykernel)",
   "language": "python",
   "name": "python3"
  },
  "language_info": {
   "codemirror_mode": {
    "name": "ipython",
    "version": 3
   },
   "file_extension": ".py",
   "mimetype": "text/x-python",
   "name": "python",
   "nbconvert_exporter": "python",
   "pygments_lexer": "ipython3",
   "version": "3.9.12"
  }
 },
 "nbformat": 4,
 "nbformat_minor": 5
}

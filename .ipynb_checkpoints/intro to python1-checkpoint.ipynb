{
 "cells": [
  {
   "cell_type": "code",
   "execution_count": 6,
   "id": "52a0ca44",
   "metadata": {},
   "outputs": [
    {
     "name": "stdout",
     "output_type": "stream",
     "text": [
      "emily\n",
      "emily emily emily I'm here\n",
      "I'm here\n",
      "\n",
      "I'm\n",
      "here'\n",
      "\n"
     ]
    }
   ],
   "source": [
    "print(\"emily\")\n",
    "name = \"emily\"\n",
    "\n",
    "#teaching about print function\n",
    "print(name, end = \" \")\n",
    "print(name, end = \" \")\n",
    "print(name, end = \" \")\n",
    "\n",
    "# for let item of items:\n",
    "#     #do something\n",
    "#     #do something else\n",
    "\n",
    "print('I\\'m here')\n",
    "print(\"I'm here\")\n",
    "print(\"\"\"\n",
    "I\\'m\n",
    "here\n",
    "\"\"\")"
   ]
  },
  {
   "cell_type": "code",
   "execution_count": 11,
   "id": "2d0e94a7",
   "metadata": {},
   "outputs": [
    {
     "name": "stdout",
     "output_type": "stream",
     "text": [
      "emily sunny\n",
      "emily sunny\n",
      "eMILY SUNNY\n",
      "e\n",
      "Bmily sunny\n",
      "emil\n",
      "False\n",
      "True\n",
      "False\n",
      "6\n",
      "['emily', 'sunny']\n",
      "Hello, welcome to this class emily sunny sugar\n",
      "hello welcome to this class, emily sunny sugar\n"
     ]
    }
   ],
   "source": [
    "#FORMATTED STRINGS\n",
    "name = 'emily sunny'\n",
    "pet = 'sugar'\n",
    "print(name)\n",
    "print(name.upper().lower())\n",
    "print(name.capitalize().swapcase())\n",
    "\n",
    "#print characters in the string\n",
    "print(name[0])\n",
    "# print(name[100])\n",
    "#name[0] = 'B'\n",
    "\n",
    "#substring\n",
    "print('B' + name[1:])\n",
    "print(name[:4])\n",
    "\n",
    "#check is string belongs to another string\n",
    "print('M' in name)\n",
    "print('y' in name)\n",
    "print('y' not in name)\n",
    "\n",
    "#find, split\n",
    "print(name.find('sun'))\n",
    "print(name.split())\n",
    "\n",
    "#formatting\n",
    "print('Hello, welcome to this class {0} {1}'.format(name, pet))\n",
    "print(f'hello welcome to this class, {name} {pet}')"
   ]
  },
  {
   "cell_type": "code",
   "execution_count": 14,
   "id": "69c07331",
   "metadata": {},
   "outputs": [
    {
     "name": "stdout",
     "output_type": "stream",
     "text": [
      "intructor\n",
      "Danai\n",
      "Maple\n"
     ]
    }
   ],
   "source": [
    "#paired data\n",
    "# person = ('name', 'Danai')\n",
    "# print(person[0])\n",
    "# person[0] = 'nickname'\n",
    "# for(title, name) in person:\n",
    "#     print(f'hello {title}, welcome {name}')\n",
    "    \n",
    "    \n",
    "#assign variables with tuple\n",
    "(title, name, pet) = ('intructor', 'Danai', 'Maple')\n",
    "print(title)\n",
    "print(name)\n",
    "print(pet)\n",
    "\n",
    "#swap values with tuple\n",
    "grape = 'apple'\n",
    "apple = 'grape'\n",
    "#temp = grape\n",
    "#grape = apple\n",
    "\n"
   ]
  },
  {
   "cell_type": "code",
   "execution_count": 40,
   "id": "4b9e36d1",
   "metadata": {},
   "outputs": [
    {
     "name": "stdout",
     "output_type": "stream",
     "text": [
      "chocolate\n",
      "carrot\n",
      "4\n",
      "5\n",
      "['vanilla', 'apple', 'carrot', 'funfetti']\n",
      "True\n",
      "False\n",
      "['vanilla', 'apple', 'carrot', 'funfetti', ['strawberry', 'banana']]\n",
      "0\n",
      "strawberry\n",
      "['cat', 'cat', 'cat']\n",
      "['apple', 'carrot', 'funfetti']\n",
      "2\n",
      "['pineapple', ['strawberry', 'banana'], 'funfetti', 'carrot', 'apple', 'kiwi', 'kiwi', 'chocolate']\n",
      "eat pineapple\n",
      "eat ['strawberry', 'banana']\n",
      "eat funfetti\n",
      "eat carrot\n",
      "eat apple\n",
      "eat kiwi\n",
      "eat kiwi\n",
      "eat chocolate\n"
     ]
    }
   ],
   "source": [
    "#lists\n",
    "cakes = ['chocolate', 'vanilla', 'pear', 'carrot']\n",
    "print(cakes[0])\n",
    "print(cakes[-1])\n",
    "print(len(cakes))\n",
    "print(len('cakes'))\n",
    "cakes[2] = 'apple'\n",
    "cakes.append('funfetti')\n",
    "del cakes[0]\n",
    "print(cakes)\n",
    "cakes.index('carrot')\n",
    "print('carrot' in cakes)\n",
    "print('carrot' not in cakes)\n",
    "\n",
    "#joining lists\n",
    "cakes = cakes + [['strawberry', 'banana']]\n",
    "print(cakes)\n",
    "print(cakes[-1].index('strawberry'))\n",
    "print(cakes[-1][0])\n",
    "print(['cat']*3)\n",
    "\n",
    "#splicing lists\n",
    "print(cakes[1:4])\n",
    "\n",
    "#updating lists\n",
    "cakes[0] = 'kiwi'\n",
    "cakes.reverse()\n",
    "cakes.insert(0,'pineapple')\n",
    "cakes.extend(['kiwi', 'chocolate'])\n",
    "print(cakes.count('kiwi'))\n",
    "print(cakes)\n",
    "\n",
    "#use list function\n",
    "for cake in cakes:\n",
    "    print(f'eat {cake}')"
   ]
  },
  {
   "cell_type": "code",
   "execution_count": 61,
   "id": "81b8f981",
   "metadata": {},
   "outputs": [
    {
     "name": "stdout",
     "output_type": "stream",
     "text": [
      "{'name': 'Samiksha', 'role': ['grad student', 'TA'], 'fav_number': 1}\n",
      "Samiksha\n",
      "Anni\n",
      "{'name': 'Anni', 'role': ['grad student', 'TA'], 'fav_number': 1, 'fav_cake': 'vanilla'}\n",
      "{'name': 'Anni', 'role': ['grad student', 'TA'], 'fav_number': 1}\n",
      "dict_keys(['name', 'role', 'fav_number'])\n",
      "dict_items([('name', 'Anni'), ('role', ['grad student', 'TA']), ('fav_number', 1)])\n",
      "<class 'dict_keys'>\n",
      "name\n",
      "Anni\n",
      "role\n",
      "['grad student', 'TA']\n",
      "fav_number\n",
      "1\n",
      "True\n",
      "{'name': 'not a fake name', 'role': ['grad student', 'TA'], 'fav_number': 1}\n",
      "{'name': 'Anni', 'role': ['grad student', 'TA'], 'fav_number': 1}\n",
      "['spring', 'summer']\n",
      "['fall', 'summer']\n"
     ]
    },
    {
     "data": {
      "text/plain": [
       "True"
      ]
     },
     "execution_count": 61,
     "metadata": {},
     "output_type": "execute_result"
    }
   ],
   "source": [
    "#dictionary\n",
    "person = {'name': 'Samiksha', 'role':['grad student','TA'], 'fav_number' : 1}\n",
    "print(person)\n",
    "print(person['name'])\n",
    "person['name'] = 'Anni'\n",
    "print(person['name'])\n",
    "person['fav_cake'] = 'vanilla'\n",
    "print(person)\n",
    "del person['fav_cake']\n",
    "print(person)\n",
    "\n",
    "#methods\n",
    "print(person.keys())\n",
    "print(person.items())\n",
    "print(type(person.keys()))\n",
    "# for key in person.keys():\n",
    "#     print(key)\n",
    "# for item in person.items():\n",
    "#     print(item)\n",
    "for (key,item) in person.items():\n",
    "    print(key)\n",
    "    print(item)\n",
    "print('name' in person)\n",
    "\n",
    "#copy\n",
    "# fake_person = person\n",
    "# fake_person['name'] = 'real name'\n",
    "# print(fake_person)\n",
    "# print(person)\n",
    "fake_person_two = person.copy()\n",
    "fake_person_two['name'] = 'not a fake name'\n",
    "print(fake_person_two)\n",
    "print(person)\n",
    "\n",
    "seasons = ['spring', 'summer']\n",
    "new_season = seasons.copy()\n",
    "new_season[0] = 'fall'\n",
    "print(seasons)\n",
    "print(new_season)\n",
    "\n",
    "1 in person.values()\n"
   ]
  },
  {
   "cell_type": "code",
   "execution_count": 70,
   "id": "1d2ef358",
   "metadata": {},
   "outputs": [
    {
     "name": "stdout",
     "output_type": "stream",
     "text": [
      "duke will win? True\n",
      "unc will win? False\n",
      "duke will not lose? True\n",
      "25\n",
      "Anni\n",
      "Anni\n",
      "True\n",
      "True\n",
      "True\n",
      "True\n"
     ]
    }
   ],
   "source": [
    "#conditionals: >, >=, ==, !=, <, <=, and, or, not\n",
    "duke = True\n",
    "unc = False\n",
    "win = True\n",
    "lose = False\n",
    "print(f'duke will win? {duke or unc}')\n",
    "print(f'unc will win? {win and unc}')\n",
    "print(f'duke will not lose? {duke and not lose}')\n",
    "print('Anni' and 25)\n",
    "print('Anni' or 25)\n",
    "print('Anni' or destroy_world)\n",
    "# print(destroy_world and 'Anni')\n",
    "# print('Anni' and destroy_world)\n",
    "#truthiness and falsiness\n",
    "\n",
    "#using == and is\n",
    "dog = \"Maple\"\n",
    "cat = dog\n",
    "lizard = \"Maple\"\n",
    "print(dog == cat)\n",
    "print(dog == lizard)\n",
    "print(dog is cat)\n",
    "print(dog is lizard)"
   ]
  },
  {
   "cell_type": "code",
   "execution_count": 75,
   "id": "dcf81b3c",
   "metadata": {},
   "outputs": [
    {
     "name": "stdout",
     "output_type": "stream",
     "text": [
      "Danai\n",
      "Danai\n",
      "===This person is Danai===\n",
      "Danai gets a cookie\n"
     ]
    }
   ],
   "source": [
    "#if-else statements\n",
    "print(name)\n",
    "name = input()\n",
    "\n",
    "if name == 'Danai':\n",
    "    print('===This person is Danai===')\n",
    "    print(f'{name} gets a cookie')\n",
    "elif name == 'Anni':\n",
    "    print(f'{name} gets a broccoli')\n",
    "else:\n",
    "    print('have a good day')"
   ]
  },
  {
   "cell_type": "code",
   "execution_count": 77,
   "id": "2ff70e6a",
   "metadata": {},
   "outputs": [
    {
     "name": "stdout",
     "output_type": "stream",
     "text": [
      "codeplus\n",
      "enter password: \n",
      "codeplus1!\n",
      "you're in!\n"
     ]
    }
   ],
   "source": [
    "#while loops\n",
    "password = input()\n",
    "while password != 'codeplus1!':\n",
    "    print(\"enter password: \")\n",
    "    password = input()\n",
    "print(\"you're in!\")"
   ]
  },
  {
   "cell_type": "code",
   "execution_count": 81,
   "id": "8b9af027",
   "metadata": {},
   "outputs": [
    {
     "name": "stdout",
     "output_type": "stream",
     "text": [
      "enter password:\n",
      "123\n",
      "not  valid\n",
      "enter password:\n",
      "123\n",
      "not  valid\n",
      "enter password:\n",
      "123\n",
      "not  valid\n",
      "try again in 15 mins\n"
     ]
    }
   ],
   "source": [
    "# for loops\n",
    "for index in range(3):\n",
    "    print('enter password:')\n",
    "    password = input()\n",
    "    if password == 'codeplus1!':\n",
    "        print('you got in!')\n",
    "        break\n",
    "    print('not  valid')\n",
    "    \n",
    "if(password!='codeplus1!'):\n",
    "    print('try again in 15 mins')\n"
   ]
  },
  {
   "cell_type": "code",
   "execution_count": null,
   "id": "bb4c5c56",
   "metadata": {},
   "outputs": [],
   "source": [
    "#modules - time, random, math\n",
    "import time \n",
    "time.process_time()\n",
    "\n",
    "import random\n",
    "random.Random().randrange(1,10)\n",
    "\n",
    "import math\n",
    "math.pi"
   ]
  }
 ],
 "metadata": {
  "kernelspec": {
   "display_name": "Python 3 (ipykernel)",
   "language": "python",
   "name": "python3"
  },
  "language_info": {
   "codemirror_mode": {
    "name": "ipython",
    "version": 3
   },
   "file_extension": ".py",
   "mimetype": "text/x-python",
   "name": "python",
   "nbconvert_exporter": "python",
   "pygments_lexer": "ipython3",
   "version": "3.9.12"
  }
 },
 "nbformat": 4,
 "nbformat_minor": 5
}
